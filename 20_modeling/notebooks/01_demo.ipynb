{
 "cells": [
  {
   "cell_type": "markdown",
   "metadata": {},
   "source": [
    "# First Light Demo\n",
    "Load data, compute coherence matrix, plot results."
   ]
  },
  {
   "cell_type": "code",
   "metadata": {},
   "source": [
    "import numpy as np\n",
    "import matplotlib.pyplot as plt\n",
    "from proc.coherence_tensor import csd_matrix\n",
    "import glob\n",
    "\n",
    "# Load last recording\n",
    "fn = sorted(glob.glob('adc_*_96kHz_8ch.npy'))[-1]\n",
    "raw = np.load(fn)\n",
    "fs=96000\n",
    "X={f'ch{i+1}': raw[:,i] for i in range(raw.shape[1])}\n",
    "\n",
    "f,S,P,C,ch=csd_matrix(X, fs=fs)\n",
    "plt.imshow(np.abs(C[np.argmin(np.abs(f-60))]), cmap='viridis')\n",
    "plt.title('Coherence @ 60 Hz')\n",
    "plt.colorbar(); plt.show()"
   ]
  }
 ],
 "metadata": {
  "kernelspec": {
   "display_name": "Python (arl-cmci)",
   "language": "python",
   "name": "arl-cmci"
  }
 },
 "nbformat": 4,
 "nbformat_minor": 5
}
