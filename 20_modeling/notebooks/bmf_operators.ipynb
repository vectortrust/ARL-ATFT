{
 "cells": [
  {
   "cell_type": "code",
   "execution_count": null,
   "id": "4e6b4cae",
   "metadata": {},
   "outputs": [],
   "source": [
    "\n",
    "# --- symbols + operators ---\n",
    "var('x y t')\n",
    "P = function('P')(x,y,t)\n",
    "\n",
    "# coefficients (dimensionful scaling kept external)\n",
    "var('a_c a_m a_r Lambda k')\n",
    "\n",
    "gradP   = (diff(P,x), diff(P,y))\n",
    "lapP    = diff(P,x,2) + diff(P,y,2)        # curvature C\n",
    "Mop     = diff(P,t)                         # movement M\n",
    "Rop     = -k*diff(P,t)                      # resistance R\n",
    "\n",
    "Master  = diff(P,t,2) - (a_c*lapP + a_m*Mop + a_r*Rop + Lambda)   # LHS form = 0\n",
    "\n",
    "show(Master)\n",
    "print(latex(Master))\n"
   ]
  },
  {
   "cell_type": "code",
   "execution_count": null,
   "id": "aed37a47",
   "metadata": {},
   "outputs": [],
   "source": [
    "\n",
    "# --- test field: gaussian pulse ---\n",
    "var('sigma omega')\n",
    "assume(sigma>0, omega>0)\n",
    "Ptest = exp(-(x^2 + y^2)/sigma^2) * cos(omega*t)\n",
    "\n",
    "Res = Master.subs({P:Ptest}).simplify_full()\n",
    "show(Res)\n",
    "print(latex(Res))\n"
   ]
  },
  {
   "cell_type": "code",
   "execution_count": null,
   "id": "da9ea9da",
   "metadata": {},
   "outputs": [],
   "source": [
    "\n",
    "# --- energy-like form (multiply by ∂P/∂t) ---\n",
    "Pt = diff(P,t)\n",
    "Energy_like = ( Pt*diff(P,t,2) - Pt*(a_c*lapP + a_m*diff(P,t) + a_r*(-k*diff(P,t)) + Lambda) ).simplify_full()\n",
    "show(Energy_like)\n",
    "print(latex(Energy_like))\n"
   ]
  },
  {
   "cell_type": "code",
   "execution_count": null,
   "id": "ebe43d6b",
   "metadata": {},
   "outputs": [],
   "source": [
    "\n",
    "# --- quick LaTeX export helper ---\n",
    "def tex(name, expr):\n",
    "    print(f\"% --- {name} ---\"); print(latex(expr)); print()\n",
    "\n",
    "tex('Gradient', gradP)\n",
    "tex('Laplacian', lapP)\n",
    "tex('Movement M', Mop)\n",
    "tex('Resistance R', Rop)\n",
    "tex('MasterEq', Master)\n"
   ]
  },
  {
   "cell_type": "code",
   "execution_count": null,
   "id": "104ccf96",
   "metadata": {},
   "outputs": [],
   "source": [
    "\n",
    "# --- pick simple coeffs and evaluate residual ---\n",
    "subs0 = {a_c:1, a_m:1, a_r:1, k:0.1, Lambda:0}\n",
    "show( Master.subs(subs0) )\n",
    "show( Master.subs(subs0).subs({P:Ptest}).simplify_full() )\n"
   ]
  }
 ],
 "metadata": {
  "kernelspec": {
   "display_name": "SageMath",
   "language": "sage",
   "name": "sage"
  }
 },
 "nbformat": 4,
 "nbformat_minor": 5
}
