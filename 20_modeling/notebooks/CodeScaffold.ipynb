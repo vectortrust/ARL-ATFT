{
 "cells": [
  {
   "cell_type": "code",
   "execution_count": 2,
   "id": "d9249960-7808-4962-81da-bfffbfe87ffd",
   "metadata": {
    "execution": {
     "iopub.execute_input": "2025-08-23T09:40:50.115394Z",
     "iopub.status.busy": "2025-08-23T09:40:50.115159Z",
     "iopub.status.idle": "2025-08-23T09:40:50.123861Z",
     "shell.execute_reply": "2025-08-23T09:40:50.123417Z",
     "shell.execute_reply.started": "2025-08-23T09:40:50.115375Z"
    },
    "scrolled": true
   },
   "outputs": [
    {
     "data": {
      "text/latex": [
       "$\\displaystyle - \\Lambda + k \\frac{\\partial}{\\partial t} P{\\left(x,y,t \\right)} - \\frac{\\partial}{\\partial t} P{\\left(x,y,t \\right)} + \\frac{\\partial^{2}}{\\partial t^{2}} P{\\left(x,y,t \\right)} - \\frac{\\partial^{2}}{\\partial x^{2}} P{\\left(x,y,t \\right)} - \\frac{\\partial^{2}}{\\partial y^{2}} P{\\left(x,y,t \\right)}$"
      ],
      "text/plain": [
       "-Lambda + k*Derivative(P(x, y, t), t) - Derivative(P(x, y, t), t) + Derivative(P(x, y, t), (t, 2)) - Derivative(P(x, y, t), (x, 2)) - Derivative(P(x, y, t), (y, 2))"
      ]
     },
     "execution_count": 2,
     "metadata": {},
     "output_type": "execute_result"
    }
   ],
   "source": [
    "import numpy as np\n",
    "import matplotlib.pyplot as plt\n",
    "from sympy import symbols, Function, diff\n",
    "\n",
    "# Define coordinates and time\n",
    "x, y, t = symbols('x y t')\n",
    "P = Function('P')(x, y, t)\n",
    "\n",
    "# Define operators\n",
    "L = diff(P, x) + diff(P, y)\n",
    "C = diff(P, x, x) + diff(P, y, y)\n",
    "M = diff(P, t)\n",
    "k = symbols('k')\n",
    "R = -k * M\n",
    "\n",
    "# Master Equation: d²P/dt² = C + M + R + Λ\n",
    "d2P_dt2 = diff(P, t, t)\n",
    "Lambda = symbols('Lambda')\n",
    "\n",
    "master_eq = d2P_dt2 - (C + M + R + Lambda)\n",
    "master_eq\n"
   ]
  },
  {
   "cell_type": "code",
   "execution_count": null,
   "id": "2632f0ad-74c9-4c9b-a1e3-f5e9c06cb3ec",
   "metadata": {},
   "outputs": [],
   "source": []
  }
 ],
 "metadata": {
  "kernelspec": {
   "display_name": "Python 3 (ipykernel)",
   "language": "python",
   "name": "python3"
  },
  "language_info": {
   "codemirror_mode": {
    "name": "ipython",
    "version": 3
   },
   "file_extension": ".py",
   "mimetype": "text/x-python",
   "name": "python",
   "nbconvert_exporter": "python",
   "pygments_lexer": "ipython3",
   "version": "3.13.5"
  },
  "widgets": {
   "application/vnd.jupyter.widget-state+json": {
    "state": {},
    "version_major": 2,
    "version_minor": 0
   }
  }
 },
 "nbformat": 4,
 "nbformat_minor": 5
}
