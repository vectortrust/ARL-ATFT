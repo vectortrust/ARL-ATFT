{
 "cells": [
  {"cell_type": "markdown", "metadata": {}, "source": [
   "# ATFT 2D Simulation\n\nRun the damped wave-like simulator and plot simple metrics."
  ]},
  {"cell_type": "code", "execution_count": null, "metadata": {}, "outputs": [], "source": [
   "import numpy as np\n",
   "from pathlib import Path\n",
   "import subprocess, json\n",
   "sim = Path('simulations/atft_sim2d.py')\n",
   "out = Path('simulations/nb_run')\n",
   "subprocess.check_call(['python3', str(sim), '--steps', '300', '--out', str(out)])\n",
   "data = np.load(str(out)+'.npz')\n",
   "metrics = data['metrics']\n",
   "metrics[-5:]"
  ]}
 ],
 "metadata": {"kernelspec": {"display_name": "Python 3", "language": "python", "name": "python3"}},
 "nbformat": 4, "nbformat_minor": 5
}
