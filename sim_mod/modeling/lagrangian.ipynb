{
 "cells": [
  {"cell_type": "markdown", "metadata": {}, "source": [
   "# Lagrangian and Euler–Lagrange\n\n",
   "$\\mathcal{L}[\\Psi] = \\tfrac{1}{2}(\\partial_t \\Psi)^2 - \\tfrac{c^2}{2}\\|\\nabla \\Psi\\|^2 + S\\,\\Psi$.\n\n",
   "Derive the wave equation and add Rayleigh dissipation $\\mathcal{R}=\\tfrac{k}{2}(\\partial_t \\Psi)^2$ to obtain $\\partial_t^2 \\Psi = c^2 \\nabla^2 \\Psi - k \\partial_t \\Psi + S$."
  ]}
 ],
 "metadata": {"kernelspec": {"display_name": "Python 3", "language": "python", "name": "python3"}},
 "nbformat": 4, "nbformat_minor": 5
}
