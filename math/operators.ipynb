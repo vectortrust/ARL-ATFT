{
 "cells": [
  {"cell_type": "markdown", "metadata": {}, "source": [
   "# Operators and Units\n\n",
   "This notebook formalizes the ATFT operator set with dimensions, domains, and commutators.\n\n",
   "- Movement $\\hat M = \\partial_t$ with $[\\hat M \\Psi] = [A][T]^{-1}$\n",
   "- Curve $\\hat C = \\nabla^2$ with $[\\hat C \\Psi] = [A][L]^{-2}$\n",
   "- Line $\\hat L$ as divergence/gradient constructions with $[A][L]^{-1}$\n",
   "- Resistance adds $-k \\partial_t \\Psi$ with $[k]=[T]^{-1}$\n\n",
   "We derive commutators under constant coefficients, and note domains (Sobolev spaces) where $\\hat C$ is self-adjoint under Dirichlet/Neumann BCs."
  ]}
 ],
 "metadata": {"kernelspec": {"display_name": "Python 3", "language": "python", "name": "python3"}},
 "nbformat": 4, "nbformat_minor": 5
}
